{
 "cells": [
  {
   "cell_type": "markdown",
   "metadata": {},
   "source": [
    "# Data Day 2019 Power Session"
   ]
  },
  {
   "cell_type": "markdown",
   "metadata": {},
   "source": [
    "Title: Interactive mapping of social vulnerability caused by climate change using R\n",
    "Authors: Richard Johansen & Mark Chalmers\n",
    "University of Cincinnati Libraries\n",
    "4/1/2019\n",
    "\n",
    " Social Vulnerability Data: http://artsandsciences.sc.edu/geog/hvri\n",
    " Code: https://github.com/RAJohansen/DataDay2019"
   ]
  },
  {
   "cell_type": "markdown",
   "metadata": {},
   "source": [
    "## Part I: Introduction to R"
   ]
  },
  {
   "cell_type": "code",
   "execution_count": null,
   "metadata": {},
   "outputs": [],
   "source": [
    "# Step 1: R as a Calculator\n",
    "1 + 3"
   ]
  },
  {
   "cell_type": "code",
   "execution_count": null,
   "metadata": {},
   "outputs": [],
   "source": [
    "### Step 2: Creating objects in R\n",
    "# Hint alt - is a shortcut for the < - \n",
    "x <- 1+2\n",
    "x\n",
    "y <- x +1\n",
    "y"
   ]
  },
  {
   "cell_type": "code",
   "execution_count": null,
   "metadata": {},
   "outputs": [],
   "source": [
    "### Step 3: Getting Help in R\n",
    "help(mean)"
   ]
  },
  {
   "cell_type": "code",
   "execution_count": null,
   "metadata": {},
   "outputs": [],
   "source": [
    "### Step 4: Viewing & Examinging a Data set\n",
    "# Lets explore data using a data set thats contained in R\n",
    "mtcars  <- mtcars"
   ]
  },
  {
   "cell_type": "code",
   "execution_count": null,
   "metadata": {},
   "outputs": [],
   "source": [
    "# View our table\n",
    "# Or click the df object under the data window\n",
    "View(mtcars)"
   ]
  },
  {
   "cell_type": "code",
   "execution_count": null,
   "metadata": {},
   "outputs": [],
   "source": [
    "# Use the names() function to return a list the variables \n",
    "names(mtcars)"
   ]
  },
  {
   "cell_type": "code",
   "execution_count": null,
   "metadata": {},
   "outputs": [],
   "source": [
    "#Look at the data types or structure of the data\n",
    "str(mtcars)\n",
    "# This is very useful when we analyzing or visualizing data\n",
    "# Make sure your variables are in the appropiate format!!"
   ]
  },
  {
   "cell_type": "code",
   "execution_count": null,
   "metadata": {},
   "outputs": [],
   "source": [
    "## Quick and simple statistical summary of the data\n",
    "summary(mtcars)"
   ]
  },
  {
   "cell_type": "code",
   "execution_count": null,
   "metadata": {},
   "outputs": [],
   "source": [
    "# Finding values from out data table\n",
    "# Lets look at column 2 \n",
    "mtcars[,2]"
   ]
  },
  {
   "cell_type": "code",
   "execution_count": null,
   "metadata": {},
   "outputs": [],
   "source": [
    "# Lets look at row 5\n",
    "mtcars[5,]"
   ]
  },
  {
   "cell_type": "code",
   "execution_count": null,
   "metadata": {},
   "outputs": [],
   "source": [
    "# What value is in row 5 column 3?\n",
    "mtcars[5,3]"
   ]
  },
  {
   "cell_type": "code",
   "execution_count": null,
   "metadata": {},
   "outputs": [],
   "source": [
    "# What if we want to know the max mpg\n",
    "max(mtcars$mpg)"
   ]
  },
  {
   "cell_type": "markdown",
   "metadata": {},
   "source": [
    "## Part II: Plotting Using Base R"
   ]
  },
  {
   "cell_type": "code",
   "execution_count": null,
   "metadata": {},
   "outputs": [],
   "source": [
    "# Default Plot\n",
    "plot(mtcars$mpg)"
   ]
  },
  {
   "cell_type": "code",
   "execution_count": null,
   "metadata": {},
   "outputs": [],
   "source": [
    "## Dotchart ##\n",
    "dotchart(mtcars$mpg, labels=row.names(mtcars))"
   ]
  },
  {
   "cell_type": "code",
   "execution_count": null,
   "metadata": {},
   "outputs": [],
   "source": [
    "## Histogram ##\n",
    "hist(mtcars$mpg)"
   ]
  },
  {
   "cell_type": "code",
   "execution_count": null,
   "metadata": {},
   "outputs": [],
   "source": [
    "# Colored Histogram with Different Number of Bins\n",
    "hist(mtcars$mpg, breaks=10)"
   ]
  },
  {
   "cell_type": "code",
   "execution_count": null,
   "metadata": {},
   "outputs": [],
   "source": [
    "## Scatterplot ##\n",
    "plot(mtcars$wt,mtcars$mpg)"
   ]
  },
  {
   "cell_type": "code",
   "execution_count": null,
   "metadata": {},
   "outputs": [],
   "source": [
    "## Box Plots ##\n",
    "boxplot(mtcars$mpg~mtcars$cyl)"
   ]
  },
  {
   "cell_type": "code",
   "execution_count": null,
   "metadata": {},
   "outputs": [],
   "source": [
    "# Boxplot with labels\n",
    "boxplot(mpg~cyl,\n",
    "        data=mtcars,\n",
    "        main=\"Car Milage Data\", \n",
    "        xlab=\"Number of Cylinders\",\n",
    "        ylab=\"Miles Per Gallon\")"
   ]
  },
  {
   "cell_type": "markdown",
   "metadata": {},
   "source": [
    "## Part III: Data Acquisition"
   ]
  },
  {
   "cell_type": "code",
   "execution_count": null,
   "metadata": {},
   "outputs": [],
   "source": [
    "### Step 1: Install & load required packages \n",
    "# The packages are already installed in the Binder session,but \n",
    "# on your own machine you would install them with the following line.\n",
    "#install.packages(c(\"tigris\",\"tmap\",\"tidyverse\",\"tablulizer\",\"dplyr\",\"sf\",\"leaflet\"))\n",
    "library(tigris)\n",
    "library(tmap)\n",
    "library(tidyverse)\n",
    "library(tabulizer)\n",
    "library(dplyr)\n",
    "library(sf)\n",
    "library(leaflet)\n"
   ]
  },
  {
   "cell_type": "code",
   "execution_count": null,
   "metadata": {},
   "outputs": [],
   "source": [
    "### Step 2: Extract a web PDF\n",
    "# Explore file location to ensure accuracy:\n",
    "website <- \"http://artsandsciences.sc.edu/geog/hvri/sites/sc.edu.geog.hvri/files/attachments/SoVI_10_14_Website.pdf\"\n",
    "browseURL(url = website)"
   ]
  },
  {
   "cell_type": "code",
   "execution_count": null,
   "metadata": {},
   "outputs": [],
   "source": [
    "# Use URL location to extract pdf as a table\n",
    "# When you're unfamilar with a function you can use the ?\n",
    "?extract_tables\n",
    "Sovi_table <- extract_tables(website)"
   ]
  },
  {
   "cell_type": "code",
   "execution_count": null,
   "metadata": {},
   "outputs": [],
   "source": [
    "# Lets view what exactly is extracted through this process\n",
    "View(Sovi_table)"
   ]
  },
  {
   "cell_type": "code",
   "execution_count": null,
   "metadata": {},
   "outputs": [],
   "source": [
    "### Step 3: Converting the web-based PDF into csv\n",
    "# Lets use two more functions to convert the extracted table\n",
    "# into a more usable and analysis friendly format\n",
    "\n",
    "final <- do.call(rbind, Sovi_table[-length(Sovi_table)])"
   ]
  },
  {
   "cell_type": "code",
   "execution_count": null,
   "metadata": {},
   "outputs": [],
   "source": [
    "# Reformate table headers by dropping the first row\n",
    "final <- as.data.frame(final[2:nrow(final), ])"
   ]
  },
  {
   "cell_type": "code",
   "execution_count": null,
   "metadata": {},
   "outputs": [],
   "source": [
    "# Lets lable the column names so they can merged with Census data\n",
    "headers <- c('GEOID', 'State_FIP', 'County_FIP', 'County_Name', 'CNTY_SoVI', \n",
    "             'Percentile')"
   ]
  },
  {
   "cell_type": "code",
   "execution_count": null,
   "metadata": {},
   "outputs": [],
   "source": [
    "# **NOTE** GEOID is the ID code for CENSUS data\n",
    "# This is mandatory for the next section\n",
    "\n",
    "### Step 4: Save the table as a csv \n",
    "# This is helpful for eliminating redundancy and reproducibility\n",
    "write.csv(final, file='Data/SoVI.csv', row.names=FALSE)"
   ]
  },
  {
   "cell_type": "markdown",
   "metadata": {},
   "source": [
    "## Part IV: Mapping in R"
   ]
  },
  {
   "cell_type": "code",
   "execution_count": null,
   "metadata": {},
   "outputs": [],
   "source": [
    "### Step 1: Load spatial objects into R from US Census Tigris files\n",
    "# In this case we want to load counties\n",
    "# The tigris package is connected to the Census's database so we can pull data directly\n",
    "# We want to pull the spatial objects counties and save them as an R object \n",
    "\n",
    "\n",
    "# NOTE: this might take a couple minutes due to the size of the file\n",
    "# Question: How many counties are there in the USA?\n",
    "\n",
    "# Load USA Counties from tigris package (US CENSUS)\n",
    "#Counties <- counties()\n",
    "\n",
    "# Convert Large SpatialPolygonsDataFrame to Simple Feature (sf)\n",
    "#Counties_sf <- st_as_sf(Counties)\n",
    "\n",
    "#Select only Florida Counties & Save them\n",
    "#Counties_FL <- subset(Counties_sf,STATEFP == \"12\")\n",
    "#st_write(Counties_FL, dsn = 'Data/Counties_FL.gpkg')"
   ]
  },
  {
   "cell_type": "code",
   "execution_count": null,
   "metadata": {},
   "outputs": [],
   "source": [
    "#Read geopackage\n",
    "Counties_FL <- st_read('Data/Counties_FL.gpkg')"
   ]
  },
  {
   "cell_type": "code",
   "execution_count": null,
   "metadata": {},
   "outputs": [],
   "source": [
    "### Step 2: Merge SoVI csv with our county region spatial object\n",
    "# Load data from package location if not currently loaded\n",
    "# We can start directly from the objects in our working environment\n",
    "#Or we can load the data saved in Part 1: Step 4\n",
    "df <- read.csv('Data/SoVI.csv')"
   ]
  },
  {
   "cell_type": "code",
   "execution_count": null,
   "metadata": {},
   "outputs": [],
   "source": [
    "# Create subset of SoVI data for just Florida Counties\n",
    "df_FL <- subset(df,State_FIP == \"12\")\n",
    "#Notice the number of rows is exactly the same as Counties_FL"
   ]
  },
  {
   "cell_type": "code",
   "execution_count": null,
   "metadata": {},
   "outputs": [],
   "source": [
    "# Now that we have both of objects loaded we can merged them using a common field\n",
    "# This is a very common practice is GIS\n",
    "# Each object must have the exact same set of unique identifiers for each row\n",
    "# Using the merge fucntion we can combine the spatial object with our data frame\n",
    "FL_SoVI <- merge(Counties_FL,df_FL, by = \"GEOID\", all = FALSE)"
   ]
  },
  {
   "cell_type": "code",
   "execution_count": null,
   "metadata": {},
   "outputs": [],
   "source": [
    "### Step 3: Plot using base plot\n",
    "# We want to plot the spatial object from the values of the first column\n",
    "# In this case that is the unique ID for each column\n",
    "plot(FL_SoVI[1])"
   ]
  },
  {
   "cell_type": "code",
   "execution_count": null,
   "metadata": {},
   "outputs": [],
   "source": [
    "### Step 4: Mapping with tmap\n",
    "# tmap uses the same grammar of graphics as ggplot\n",
    "# We build on our graphics like layers on a cake\n",
    "\n",
    "# Plot  data \n",
    "tm_shape(FL_SoVI) +\n",
    "  tm_fill()"
   ]
  },
  {
   "cell_type": "code",
   "execution_count": null,
   "metadata": {},
   "outputs": [],
   "source": [
    "# Now add our county borders         \n",
    "tm_shape(FL_SoVI) +\n",
    "  tm_borders() + \n",
    "  tm_fill()\n"
   ]
  },
  {
   "cell_type": "code",
   "execution_count": null,
   "metadata": {},
   "outputs": [],
   "source": [
    "# Lets add our SoVI data to explore trends         \n",
    "tm_shape(FL_SoVI) +\n",
    "  tm_borders() + \n",
    "  tm_fill(col = \"CNTY_SoVI\")"
   ]
  },
  {
   "cell_type": "code",
   "execution_count": null,
   "metadata": {},
   "outputs": [],
   "source": [
    "# Manually define lable breaks\n",
    "breaks = c(-6,-3,0,3,6)\n",
    "tm_shape(FL_SoVI) +\n",
    "  tm_borders() + \n",
    "  tm_fill(col = \"CNTY_SoVI\", breaks = breaks)"
   ]
  },
  {
   "cell_type": "code",
   "execution_count": null,
   "metadata": {},
   "outputs": [],
   "source": [
    "# We can explore color palettes\n",
    "tmaptools::palette_explorer()"
   ]
  },
  {
   "cell_type": "code",
   "execution_count": null,
   "metadata": {},
   "outputs": [],
   "source": [
    "# Lets choose our own color palette and add a continuous scale bar\n",
    "tm_shape(FL_SoVI) +\n",
    "  tm_borders() + \n",
    "  tm_fill(col = \"CNTY_SoVI\", style = \"cont\", palette = \"viridis\")\n"
   ]
  },
  {
   "cell_type": "code",
   "execution_count": null,
   "metadata": {},
   "outputs": [],
   "source": [
    "\n",
    "# Add some cartographic elements\n",
    "tm_shape(FL_SoVI) +\n",
    "  tm_borders() + \n",
    "  tm_fill(col = \"CNTY_SoVI\", style = \"cont\", palette = \"viridis\") +\n",
    "  tm_layout(title = \"Florida SoVI Vulnerability Index by County\",\n",
    "            legend.outside = FALSE,\n",
    "            frame = TRUE,\n",
    "            inner.margins = 0.1,\n",
    "            legend.title.size = 1.5,\n",
    "            legend.text.size = 1.1) +\n",
    "  tm_compass(type = \"arrow\", position = c(\"right\", \"top\"), size = 2) +\n",
    "  tm_scale_bar(breaks = c(0, 100, 200),size = 0.8)\n",
    "  "
   ]
  },
  {
   "cell_type": "code",
   "execution_count": null,
   "metadata": {},
   "outputs": [],
   "source": [
    "### Finally Lets save our plot\n",
    "\n",
    "#Saving a plot\n",
    "#jpeg('My_Awesome_Map.jpg', width = 7, height = 7, units = \"in\", res =300)\n",
    "\n",
    "#tm_shape(FL_SoVI) +\n",
    "#  tm_borders() + \n",
    "#  tm_fill(col = \"CNTY_SoVI\", style = \"cont\", palette = \"viridis\") +\n",
    "#  tm_layout(title = \"Florida SoVI Vulnerability Index by County\",\n",
    "#            legend.outside = FALSE,\n",
    "#            frame = TRUE,\n",
    "#            inner.margins = 0.1,\n",
    "#            legend.title.size = 1.5,\n",
    "#            legend.text.size = 1.1) +\n",
    "#  tm_compass(type = \"arrow\", position = c(\"right\", \"top\"), size = 2) +\n",
    "#  tm_scale_bar(breaks = c(0, 100, 200),size = 0.8)\n",
    "\n",
    "#dev.off()\n"
   ]
  },
  {
   "cell_type": "markdown",
   "metadata": {},
   "source": [
    "## Part V: Interactive Mapping and leaflet"
   ]
  },
  {
   "cell_type": "code",
   "execution_count": null,
   "metadata": {},
   "outputs": [],
   "source": [
    "# Lets examine the leaflet documentation\n",
    "?leaflet\n",
    "browseURL(url = \"https://rstudio.github.io/leaflet/\")"
   ]
  },
  {
   "cell_type": "code",
   "execution_count": null,
   "metadata": {},
   "outputs": [],
   "source": [
    "### Step 1: Convert Static tmap to Interactive Map using leaflet\n",
    "# Create R object from map \n",
    "map <- tm_shape(FL_SoVI) +\n",
    "  tm_borders() +\n",
    "  tm_fill(col = \"CNTY_SoVI\",\n",
    "          id = \"NAME\",\n",
    "          popup.vars = c(\"NAME\",\"CNTY_SoVI\"))\n"
   ]
  },
  {
   "cell_type": "code",
   "execution_count": null,
   "metadata": {},
   "outputs": [],
   "source": [
    "#Call that object using tmap_leaflet function\n",
    "tmap_leaflet(map)"
   ]
  },
  {
   "cell_type": "code",
   "execution_count": null,
   "metadata": {},
   "outputs": [],
   "source": [
    "### Step 2: Complex Mapping with leaflet\n",
    "# Create duplicate maps so we can do a side by side comparison of SoVI and Flood Zone\n",
    "FL_pop <- read.csv(\"Data/FL_Population.csv\")"
   ]
  },
  {
   "cell_type": "code",
   "execution_count": null,
   "metadata": {},
   "outputs": [],
   "source": [
    "FL_pop$NAMELSAD <- FL_pop$County\n",
    "# Merge population data into spatial object \n",
    "FL_SoVI <- merge(FL_SoVI,FL_pop, by = \"NAMELSAD\", all = FALSE)"
   ]
  },
  {
   "cell_type": "code",
   "execution_count": null,
   "metadata": {},
   "outputs": [],
   "source": [
    "#Add Flood zone lines\n",
    "FL_slr_10ft <- st_read(\"Data/FL_slr_10ft.gpkg\")"
   ]
  },
  {
   "cell_type": "code",
   "execution_count": null,
   "metadata": {},
   "outputs": [],
   "source": [
    "facets  <- c(\"CNTY_SoVI\",\"Population\")\n",
    "map_facets <- tm_shape(FL_SoVI) +\n",
    "  tm_polygons(facets) +\n",
    "  tm_borders() +\n",
    "  tm_fill(col = \"CNTY_SoVI\",\n",
    "          id = \"NAME\",\n",
    "          popup.vars = c(\"NAME\",\"CNTY_SoVI\")) +\n",
    "  tm_shape(FL_slr_10ft) +\n",
    "    tm_polygons(col = \"blue\", alpha = 0.5) +\n",
    "  tm_facets(nrow = 1, sync = TRUE)"
   ]
  },
  {
   "cell_type": "code",
   "execution_count": null,
   "metadata": {},
   "outputs": [],
   "source": [
    "tmap_leaflet(map_facets)"
   ]
  },
  {
   "cell_type": "code",
   "execution_count": null,
   "metadata": {},
   "outputs": [],
   "source": [
    "### Step 3: Adding a basemap to a Interactive Map\n",
    "map_facets_base <- tm_basemap(leaflet::providers$Esri.WorldImagery) + \n",
    "  tm_shape(FL_SoVI) +\n",
    "  tm_polygons(facets) +\n",
    "  tm_borders() +\n",
    "  tm_fill(col = \"CNTY_SoVI\",\n",
    "          id = \"NAME\",\n",
    "          popup.vars = c(\"NAME\",\"CNTY_SoVI\")) +\n",
    "  tm_shape(FL_slr_10ft) +\n",
    "  tm_polygons(col = \"blue\", alpha = 0.5) +\n",
    "  tm_facets(nrow = 1, sync = TRUE)"
   ]
  },
  {
   "cell_type": "code",
   "execution_count": null,
   "metadata": {},
   "outputs": [],
   "source": [
    "tmap_leaflet(map_facets_base)"
   ]
  },
  {
   "cell_type": "code",
   "execution_count": null,
   "metadata": {},
   "outputs": [],
   "source": [
    "### Step 4: Interactive Map using leaflet only\n",
    "pal <- colorNumeric(\n",
    "  palette = \"RdYlBu\",\n",
    "  domain = FL_SoVI$CNTY_SoVI\n",
    ")"
   ]
  },
  {
   "cell_type": "code",
   "execution_count": null,
   "metadata": {},
   "outputs": [],
   "source": [
    "m <- leaflet(FL_SoVI) %>%\n",
    "  addTiles(group = \"Open Street Map\") %>% \n",
    "  addProviderTiles(leaflet::providers$Esri.WorldImagery, group = \"Satellite Imagery\") %>% \n",
    "  addPolygons(color = \"#444444\", weight = 1, smoothFactor = 0.5,\n",
    "              opacity = 1.0, fillOpacity = 0.5,\n",
    "              fillColor = ~colorQuantile(\"RdYlBu\", CNTY_SoVI)(CNTY_SoVI),\n",
    "              highlightOptions = highlightOptions(color = \"white\", weight = 2,\n",
    "                                                  bringToFront = TRUE), group = \"SoVI\") %>% \n",
    "  addPolygons(data = FL_slr_10ft, fillColor = \"blue\", fillOpacity = 0.5, group = \"Sea Level Rise\") %>% \n",
    "  addLayersControl(baseGroups = c(\"Satellite Imagery\", \"Open Street Map\"),\n",
    "                   overlayGroups = c(\"Sea Level Rise\", \"SoVI\"),\n",
    "                   options = layersControlOptions(collapsed = FALSE)) %>% \n",
    "  addLegend(\"bottomleft\",\n",
    "            title = \"Vulnerability (SoVI)\",\n",
    "            pal = pal,\n",
    "            values = ~CNTY_SoVI,\n",
    "            opacity = 1)"
   ]
  },
  {
   "cell_type": "code",
   "execution_count": null,
   "metadata": {},
   "outputs": [],
   "source": [
    "#Print the Map\n",
    "m"
   ]
  }
 ],
 "metadata": {
  "kernelspec": {
   "display_name": "R",
   "language": "R",
   "name": "ir"
  },
  "language_info": {
   "codemirror_mode": "r",
   "file_extension": ".r",
   "mimetype": "text/x-r-source",
   "name": "R",
   "pygments_lexer": "r",
   "version": "3.5.1"
  }
 },
 "nbformat": 4,
 "nbformat_minor": 2
}
